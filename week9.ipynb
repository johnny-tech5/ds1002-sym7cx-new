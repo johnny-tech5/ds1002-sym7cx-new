{
  "nbformat": 4,
  "nbformat_minor": 0,
  "metadata": {
    "colab": {
      "provenance": []
    },
    "kernelspec": {
      "name": "python3",
      "display_name": "Python 3"
    },
    "language_info": {
      "name": "python"
    }
  },
  "cells": [
    {
      "cell_type": "markdown",
      "source": [
        "# Homework - Week 9\n",
        "\n",
        "Complete the following blocks as specified in the directions. Run each cell to return the desired output. Save your notebook back to your GitHub repository and submit the GitHub URL to your notebook for review."
      ],
      "metadata": {
        "id": "phbaQTT5gy8A"
      }
    },
    {
      "cell_type": "markdown",
      "source": [
        "## Functions\n",
        "\n",
        "In the cell below define a function that takes one parameter (in the form of a list) called `names` and returns a simple greeting for each name, such as\n",
        "\n",
        "    \"Hello Natasha, it's so nice to meet you\"\n",
        "    \"Hello Sid, it's so nice to meet you\"\n",
        "\n",
        "Define the function and run it, and in another cell below call the function populated with a var of a list of names."
      ],
      "metadata": {
        "id": "38Pg39pMrDua"
      }
    },
    {
      "cell_type": "code",
      "source": [
        "def greet(names):\n",
        "  for name in names:\n",
        "    print(\"Hello\", name + \", it's so nice to meet you\")\n"
      ],
      "metadata": {
        "id": "kdFLCHtOg53p"
      },
      "execution_count": 1,
      "outputs": []
    },
    {
      "cell_type": "code",
      "source": [
        "names = [\"Jonathan\", \"Jack\", \"Tim\"]\n",
        "greet(names)"
      ],
      "metadata": {
        "id": "JlNPe_XUsmog",
        "colab": {
          "base_uri": "https://localhost:8080/"
        },
        "outputId": "c6f2a629-a96f-47da-dde4-db7bb15c4f36"
      },
      "execution_count": 2,
      "outputs": [
        {
          "output_type": "stream",
          "name": "stdout",
          "text": [
            "Hello Jonathan, it's so nice to meet you\n",
            "Hello Jack, it's so nice to meet you\n",
            "Hello Tim, it's so nice to meet you\n"
          ]
        }
      ]
    },
    {
      "cell_type": "markdown",
      "source": [
        "Using the following list, pass it into a function you define that will evaluate the list and return a count of how many items is in it. Be creative.\n",
        "\n",
        "```\n",
        "mylist = [\"Toronto\",\"Buffalo\",\"Syracuse\",\"Albany\",\"Schenectady\",\"Brooklyn\",\"Rome\",\"Ithaca\"]\n",
        "```"
      ],
      "metadata": {
        "id": "mXqNACpkrdUZ"
      }
    },
    {
      "cell_type": "code",
      "source": [
        "mylist = [\"Toronto\",\"Buffalo\",\"Syracuse\",\"Albany\",\"Schenectady\",\"Brooklyn\",\"Rome\",\"Ithaca\"]\n",
        "\n",
        "import numpy as np\n",
        "def length(a_list):\n",
        "  return np.array(a_list).shape[0]\n",
        "\n",
        "print(length(mylist))"
      ],
      "metadata": {
        "id": "mvxOzRSisg0a",
        "colab": {
          "base_uri": "https://localhost:8080/"
        },
        "outputId": "5d91fa05-7358-4e75-fbc8-63e04129c0fd"
      },
      "execution_count": 5,
      "outputs": [
        {
          "output_type": "stream",
          "name": "stdout",
          "text": [
            "8\n"
          ]
        }
      ]
    },
    {
      "cell_type": "markdown",
      "source": [
        "## Input Validation\n",
        "\n",
        "Write a function below that defines two input parameters as `bool` and returns a `bool`.\n",
        "In the cell below that, populate two variables with two different bools (True and False)\n",
        "and pass them into a call of your function."
      ],
      "metadata": {
        "id": "YU7FXSCXsFab"
      }
    },
    {
      "cell_type": "code",
      "source": [
        "def validate(bool1, bool2):\n",
        "  return bool1 and bool2\n",
        "\n",
        "test1 = True\n",
        "test2 = False\n",
        "print(validate(test1, test2))\n"
      ],
      "metadata": {
        "id": "DGMJZjlysfHU",
        "colab": {
          "base_uri": "https://localhost:8080/"
        },
        "outputId": "deb5fd7b-29f1-4de6-9cc3-2954eb3faabc"
      },
      "execution_count": 6,
      "outputs": [
        {
          "output_type": "stream",
          "name": "stdout",
          "text": [
            "False\n"
          ]
        }
      ]
    },
    {
      "cell_type": "markdown",
      "source": [
        "## Global Variables\n",
        "\n",
        "Define a global variable and populate it with a data type (int, str, bool, float, etc.)"
      ],
      "metadata": {
        "id": "xXZTr5fdsd5M"
      }
    },
    {
      "cell_type": "code",
      "source": [
        "thing = \"Hi\""
      ],
      "metadata": {
        "id": "HN8CFLVRs6_L"
      },
      "execution_count": 7,
      "outputs": []
    },
    {
      "cell_type": "markdown",
      "source": [
        "Now create a function that prints out the global variable. Call the function and display the value of the var."
      ],
      "metadata": {
        "id": "G1Auc6l1s8F6"
      }
    },
    {
      "cell_type": "code",
      "source": [
        "def print_global():\n",
        "  global thing\n",
        "  print(thing)\n",
        "\n",
        "print_global()"
      ],
      "metadata": {
        "id": "Q6O0Ep_wtBWJ",
        "colab": {
          "base_uri": "https://localhost:8080/"
        },
        "outputId": "2c7fc073-18e5-46d7-e5fd-346a7380ddf6"
      },
      "execution_count": 13,
      "outputs": [
        {
          "output_type": "stream",
          "name": "stdout",
          "text": [
            "Hi\n"
          ]
        }
      ]
    },
    {
      "cell_type": "markdown",
      "source": [
        "Now create a function that creates its own global var and populates it.\n",
        "Call the function and then print out the global var from outside of the function."
      ],
      "metadata": {
        "id": "IN2TRQI8tCC4"
      }
    },
    {
      "cell_type": "code",
      "source": [
        "def create_global():\n",
        "  global thing2\n",
        "  thing2 = \"Hi 2\"\n",
        "  print(thing2)\n",
        "\n",
        "create_global()"
      ],
      "metadata": {
        "id": "Oz4rnmfTtKen",
        "colab": {
          "base_uri": "https://localhost:8080/"
        },
        "outputId": "ce32885a-4d0c-4d03-cd87-5ed3e41bb784"
      },
      "execution_count": 15,
      "outputs": [
        {
          "output_type": "stream",
          "name": "stdout",
          "text": [
            "Hi 2\n"
          ]
        }
      ]
    },
    {
      "cell_type": "markdown",
      "source": [
        "Finally, write a function that updates the value of the global var you defined 3 cells above.\n",
        "\n",
        "1. Within the function, print out the global var you defined 3 cells above.\n",
        "2. Update the global var to have a new value.\n",
        "3. Within the function, print the new value of the global var.\n",
        "\n",
        "Call the function and once more print out the value of the global var from outside of the function."
      ],
      "metadata": {
        "id": "jv0dtym0tLZn"
      }
    },
    {
      "cell_type": "code",
      "source": [
        "def update():\n",
        "  global thing\n",
        "  thing = \"Hello!\"\n",
        "  print(thing)\n",
        "\n",
        "update()\n"
      ],
      "metadata": {
        "id": "pnX-hfKouLcG",
        "colab": {
          "base_uri": "https://localhost:8080/"
        },
        "outputId": "3f6a7b2a-6d80-4691-e82b-9409c5978d64"
      },
      "execution_count": 16,
      "outputs": [
        {
          "output_type": "stream",
          "name": "stdout",
          "text": [
            "Hello!\n"
          ]
        }
      ]
    }
  ]
}